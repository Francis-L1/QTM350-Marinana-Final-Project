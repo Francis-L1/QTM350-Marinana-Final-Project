{
 "cells": [
  {
   "cell_type": "markdown",
   "id": "nervous-accountability",
   "metadata": {},
   "source": [
    "# Data Extraction and Regression\n",
    "The following notebook contains the codes for generating the data set for the regression analysis and the analysis itself. This notebook will also contain instructions on how to reporduce the study if you wish to test it with your own pictures."
   ]
  },
  {
   "cell_type": "markdown",
   "id": "timely-election",
   "metadata": {},
   "source": [
    "## Step 0: Give AmazonSagemaker the required access to services (skippable if already done so)\n",
    "For this analysis we will use Amazon S3 and Amazon Rekognition so we need to give Amazon SageMaker the access to these services through Identity and Access Management (IAM). \n",
    "\n",
    "First, open IAM from your Console and click `Roles` on the left panel. Next, find the `AmazonSageMaker-ExecutionRole-xxxxxxxx` role (the last few digits differ for everyone). Now you should be seeing this image\n",
    "\n",
    "![roleaccess](./step0-2.jpg)"
   ]
  },
  {
   "cell_type": "markdown",
   "id": "featured-environment",
   "metadata": {},
   "source": [
    "The ones we need are `AmazonRekognitionFullAccess` and `AmazonS3FullAccess` so click `Attach policies` and add them"
   ]
  },
  {
   "cell_type": "markdown",
   "id": "religious-trinity",
   "metadata": {},
   "source": [
    "## Step 1: Prepare the data for analysis\n",
    "You can make your new buckets to store the images with codes but it is easier to use the graphical UI for this."
   ]
  },
  {
   "cell_type": "markdown",
   "id": "angry-medicare",
   "metadata": {},
   "source": [
    "Open S3 from your console and click `Create bucket` to create the buckets. There isn't much configuration here but remember that the name for the bucket must be unique so add a name or number at the end of the bucket name. For our project, we will name our buckets \"source-image-marinara\" and \"target-image-marinara\". We need to create two buckets, one for storing the source image(s), and one for taget images. You should see two new buckets when you finish creating them.\n",
    "\n",
    "![newbuckets](./step1-3.jpg)"
   ]
  },
  {
   "cell_type": "markdown",
   "id": "blank-nitrogen",
   "metadata": {},
   "source": [
    "You can now click into the buckets and start uploading the images. For our project, we collected samples from 4 people, each with 10 pictures edited through Meitu, an app with a feature of beautifying protraits.\n",
    "\n",
    "![imagedata](./step1-4.jpg)"
   ]
  },
  {
   "cell_type": "markdown",
   "id": "genetic-olympus",
   "metadata": {},
   "source": [
    "Natrually we have 4 different source images. If you want to reproduce the test, it is recommended that you label your images with numbers.\n",
    "\n",
    "For the next step, open an excel file and enter the beautifying parameters accordingly. These data will have to be obatined manually because the picture does not contain the meta data for beautifying effects.\n",
    "\n",
    "![datasheet](./step1-5.jpg)\n",
    "\n",
    "Later, we will merge this data set with the similarity data that we will obtain from Rekognition.\n"
   ]
  },
  {
   "cell_type": "markdown",
   "id": "possible-writer",
   "metadata": {},
   "source": [
    "## Step 2: Generate the data frame\n",
    "First, we write a function that extract that similarity statistic through Amazon Rekognition"
   ]
  },
  {
   "cell_type": "code",
   "execution_count": 12,
   "id": "accurate-regression",
   "metadata": {},
   "outputs": [],
   "source": [
    "import boto3\n",
    "import numpy as np\n",
    "import pandas as pd"
   ]
  },
  {
   "cell_type": "code",
   "execution_count": 3,
   "id": "transsexual-cowboy",
   "metadata": {},
   "outputs": [],
   "source": [
    "client = boto3.client('rekognition')"
   ]
  },
  {
   "cell_type": "code",
   "execution_count": 4,
   "id": "surprising-course",
   "metadata": {},
   "outputs": [
    {
     "name": "stdout",
     "output_type": "stream",
     "text": [
      "2021-03-30 13:43:49 my-bucket-francis\n",
      "2021-04-06 13:36:45 project-francis\n",
      "2021-04-22 07:11:48 source-image-marinara\n",
      "2021-04-22 07:15:54 target-image-marinara\n"
     ]
    }
   ],
   "source": [
    "#check buckets\n",
    "!aws s3 ls"
   ]
  },
  {
   "cell_type": "code",
   "execution_count": 5,
   "id": "charitable-private",
   "metadata": {},
   "outputs": [],
   "source": [
    "#because we have 4 source images, the easier solution is to create 4 extraction functions with different source images.\n",
    "def extract_similarity_FL(photo):\n",
    "    try:\n",
    "        comparison = client.compare_faces(\n",
    "            SourceImage= {'S3Object':{'Bucket':'source-image-marinara', 'Name':'FL-source.jpg'}},\n",
    "            TargetImage = {'S3Object':{'Bucket':'target-image-marinara','Name':photo}})\n",
    "        similarity = comparison['FaceMatches'][0]['Similarity']\n",
    "    except Exception:\n",
    "        similarity = np.nan\n",
    "    return similarity\n",
    "\n",
    "def extract_similarity_Jenny(photo):\n",
    "    try:\n",
    "        comparison = client.compare_faces(\n",
    "            SourceImage= {'S3Object':{'Bucket':'source-image-marinara', 'Name':'Jenny-source.jpg'}},\n",
    "            TargetImage = {'S3Object':{'Bucket':'target-image-marinara','Name':photo}})\n",
    "        similarity = comparison['FaceMatches'][0]['Similarity']\n",
    "    except Exception:\n",
    "        similarity = np.nan\n",
    "    return similarity\n",
    "\n",
    "def extract_similarity_Jin(photo):\n",
    "    try:\n",
    "        comparison = client.compare_faces(\n",
    "            SourceImage= {'S3Object':{'Bucket':'source-image-marinara', 'Name':'Jin-source.jpg'}},\n",
    "            TargetImage = {'S3Object':{'Bucket':'target-image-marinara','Name':photo}})\n",
    "        similarity = comparison['FaceMatches'][0]['Similarity']\n",
    "    except Exception:\n",
    "        similarity = np.nan\n",
    "    return similarity\n",
    "\n",
    "def extract_similarity_Nicole(photo):\n",
    "    try:\n",
    "        comparison = client.compare_faces(\n",
    "            SourceImage= {'S3Object':{'Bucket':'source-image-marinara', 'Name':'Nicole-source.jpg'}},\n",
    "            TargetImage = {'S3Object':{'Bucket':'target-image-marinara','Name':photo}})\n",
    "        similarity = comparison['FaceMatches'][0]['Similarity']\n",
    "    except Exception:\n",
    "        similarity = np.nan\n",
    "    return similarity"
   ]
  },
  {
   "cell_type": "code",
   "execution_count": 6,
   "id": "illegal-prediction",
   "metadata": {},
   "outputs": [
    {
     "data": {
      "text/plain": [
       "99.99996185302734"
      ]
     },
     "execution_count": 6,
     "metadata": {},
     "output_type": "execute_result"
    }
   ],
   "source": [
    "#test\n",
    "extract_similarity_FL('FL1.jpg')"
   ]
  },
  {
   "cell_type": "code",
   "execution_count": 7,
   "id": "successful-aside",
   "metadata": {},
   "outputs": [
    {
     "data": {
      "text/plain": [
       "99.99998474121094"
      ]
     },
     "execution_count": 7,
     "metadata": {},
     "output_type": "execute_result"
    }
   ],
   "source": [
    "extract_similarity_Jenny('Jenny1.JPG')"
   ]
  },
  {
   "cell_type": "code",
   "execution_count": 8,
   "id": "daily-cambodia",
   "metadata": {},
   "outputs": [
    {
     "data": {
      "text/plain": [
       "99.97551727294922"
      ]
     },
     "execution_count": 8,
     "metadata": {},
     "output_type": "execute_result"
    }
   ],
   "source": [
    "extract_similarity_Jin('Jin1.JPG')"
   ]
  },
  {
   "cell_type": "code",
   "execution_count": 9,
   "id": "beautiful-pulse",
   "metadata": {},
   "outputs": [
    {
     "data": {
      "text/plain": [
       "99.99911499023438"
      ]
     },
     "execution_count": 9,
     "metadata": {},
     "output_type": "execute_result"
    }
   ],
   "source": [
    "extract_similarity_Nicole('Nicole4.JPG')"
   ]
  },
  {
   "cell_type": "markdown",
   "id": "basic-oliver",
   "metadata": {},
   "source": [
    "Now we genrate the data frame"
   ]
  },
  {
   "cell_type": "code",
   "execution_count": 10,
   "id": "enhanced-circuit",
   "metadata": {},
   "outputs": [
    {
     "data": {
      "text/plain": [
       "['FL1.jpg',\n",
       " 'FL10.jpg',\n",
       " 'FL2.jpg',\n",
       " 'FL3.jpg',\n",
       " 'FL4.jpg',\n",
       " 'FL5.jpg',\n",
       " 'FL6.jpg',\n",
       " 'FL7.jpg',\n",
       " 'FL8.jpg',\n",
       " 'FL9.jpg',\n",
       " 'Jenny1.JPG',\n",
       " 'Jenny10.JPG',\n",
       " 'Jenny2.JPG',\n",
       " 'Jenny3.JPG',\n",
       " 'Jenny4.JPG',\n",
       " 'Jenny5.JPG',\n",
       " 'Jenny6.JPG',\n",
       " 'Jenny7.JPG',\n",
       " 'Jenny8.JPG',\n",
       " 'Jenny9.JPG',\n",
       " 'Jin1.JPG',\n",
       " 'Jin10.JPG',\n",
       " 'Jin2.JPG',\n",
       " 'Jin3.JPG',\n",
       " 'Jin4.JPG',\n",
       " 'Jin5.JPG',\n",
       " 'Jin6.JPG',\n",
       " 'Jin7.JPG',\n",
       " 'Jin8.JPG',\n",
       " 'Jin9.JPG',\n",
       " 'Nicole1.JPG',\n",
       " 'Nicole10.JPG',\n",
       " 'Nicole2.JPG',\n",
       " 'Nicole3.JPG',\n",
       " 'Nicole4.JPG',\n",
       " 'Nicole5.JPG',\n",
       " 'Nicole6.JPG',\n",
       " 'Nicole7.JPG',\n",
       " 'Nicole8.JPG',\n",
       " 'Nicole9.JPG']"
      ]
     },
     "execution_count": 10,
     "metadata": {},
     "output_type": "execute_result"
    }
   ],
   "source": [
    "s3_resource = boto3.resource('s3')\n",
    "my_bucket = s3_resource.Bucket('target-image-marinara')\n",
    "summaries = my_bucket.objects.all()\n",
    "image_names = [image.key for image  in summaries]\n",
    "image_names"
   ]
  },
  {
   "cell_type": "markdown",
   "id": "speaking-intervention",
   "metadata": {},
   "source": [
    "As we can see, s3 bucket orders the name differently from our manually typed in data sheet, so we need to make adjustments accordingly."
   ]
  },
  {
   "cell_type": "code",
   "execution_count": 86,
   "id": "joint-transfer",
   "metadata": {},
   "outputs": [
    {
     "name": "stdout",
     "output_type": "stream",
     "text": [
      "[99.99996185302734, 99.99999237060547, 99.99917602539062, 99.9999771118164, 99.99993133544922, 99.99998474121094, 99.99998474121094, 99.99993896484375, 99.99996948242188, 99.99993896484375]\n"
     ]
    }
   ],
   "source": [
    "similarity = []*40\n",
    "\n",
    "for i in range(0,10,1):\n",
    "    similarity.append(extract_similarity_FL(image_names[i]))"
   ]
  },
  {
   "cell_type": "code",
   "execution_count": 88,
   "id": "alpha-vietnam",
   "metadata": {},
   "outputs": [],
   "source": [
    "for i in range(10,20,1):\n",
    "    similarity.append(extract_similarity_Jenny(image_names[i]))"
   ]
  },
  {
   "cell_type": "code",
   "execution_count": 92,
   "id": "electoral-constant",
   "metadata": {},
   "outputs": [],
   "source": [
    "for i in range(20,30,1):\n",
    "    similarity.append(extract_similarity_Jin(image_names[i]))"
   ]
  },
  {
   "cell_type": "code",
   "execution_count": 96,
   "id": "commercial-surgeon",
   "metadata": {},
   "outputs": [],
   "source": [
    "for i in range(30,40,1):\n",
    "    similarity.append(extract_similarity_Nicole(image_names[i]))"
   ]
  },
  {
   "cell_type": "code",
   "execution_count": 109,
   "id": "surprised-nepal",
   "metadata": {},
   "outputs": [
    {
     "data": {
      "text/plain": [
       "40"
      ]
     },
     "execution_count": 109,
     "metadata": {},
     "output_type": "execute_result"
    }
   ],
   "source": [
    "len(similarity)"
   ]
  },
  {
   "cell_type": "code",
   "execution_count": 110,
   "id": "acquired-category",
   "metadata": {},
   "outputs": [],
   "source": [
    "df = pd.read_csv('data_sheet.csv')"
   ]
  },
  {
   "cell_type": "code",
   "execution_count": 111,
   "id": "widespread-extra",
   "metadata": {},
   "outputs": [],
   "source": [
    "df['similarity']=similarity"
   ]
  },
  {
   "cell_type": "code",
   "execution_count": 112,
   "id": "informational-broadcast",
   "metadata": {},
   "outputs": [
    {
     "data": {
      "text/html": [
       "<div>\n",
       "<style scoped>\n",
       "    .dataframe tbody tr th:only-of-type {\n",
       "        vertical-align: middle;\n",
       "    }\n",
       "\n",
       "    .dataframe tbody tr th {\n",
       "        vertical-align: top;\n",
       "    }\n",
       "\n",
       "    .dataframe thead th {\n",
       "        text-align: right;\n",
       "    }\n",
       "</style>\n",
       "<table border=\"1\" class=\"dataframe\">\n",
       "  <thead>\n",
       "    <tr style=\"text-align: right;\">\n",
       "      <th></th>\n",
       "      <th>Name</th>\n",
       "      <th>Pic#</th>\n",
       "      <th>forehead</th>\n",
       "      <th>chin</th>\n",
       "      <th>eyes</th>\n",
       "      <th>cheek</th>\n",
       "      <th>male</th>\n",
       "      <th>similarity</th>\n",
       "    </tr>\n",
       "  </thead>\n",
       "  <tbody>\n",
       "    <tr>\n",
       "      <th>0</th>\n",
       "      <td>FL1.jpg</td>\n",
       "      <td>1</td>\n",
       "      <td>16</td>\n",
       "      <td>-33</td>\n",
       "      <td>49</td>\n",
       "      <td>26</td>\n",
       "      <td>1</td>\n",
       "      <td>99.999962</td>\n",
       "    </tr>\n",
       "    <tr>\n",
       "      <th>1</th>\n",
       "      <td>FL10.jpg</td>\n",
       "      <td>10</td>\n",
       "      <td>-16</td>\n",
       "      <td>19</td>\n",
       "      <td>83</td>\n",
       "      <td>57</td>\n",
       "      <td>1</td>\n",
       "      <td>99.999992</td>\n",
       "    </tr>\n",
       "    <tr>\n",
       "      <th>2</th>\n",
       "      <td>FL2.jpg</td>\n",
       "      <td>2</td>\n",
       "      <td>-50</td>\n",
       "      <td>38</td>\n",
       "      <td>100</td>\n",
       "      <td>100</td>\n",
       "      <td>1</td>\n",
       "      <td>99.999176</td>\n",
       "    </tr>\n",
       "    <tr>\n",
       "      <th>3</th>\n",
       "      <td>FL3.jpg</td>\n",
       "      <td>3</td>\n",
       "      <td>32</td>\n",
       "      <td>-24</td>\n",
       "      <td>71</td>\n",
       "      <td>39</td>\n",
       "      <td>1</td>\n",
       "      <td>99.999977</td>\n",
       "    </tr>\n",
       "    <tr>\n",
       "      <th>4</th>\n",
       "      <td>FL4.jpg</td>\n",
       "      <td>4</td>\n",
       "      <td>50</td>\n",
       "      <td>19</td>\n",
       "      <td>15</td>\n",
       "      <td>70</td>\n",
       "      <td>1</td>\n",
       "      <td>99.999931</td>\n",
       "    </tr>\n",
       "    <tr>\n",
       "      <th>5</th>\n",
       "      <td>FL5.jpg</td>\n",
       "      <td>5</td>\n",
       "      <td>-31</td>\n",
       "      <td>24</td>\n",
       "      <td>34</td>\n",
       "      <td>43</td>\n",
       "      <td>1</td>\n",
       "      <td>99.999985</td>\n",
       "    </tr>\n",
       "    <tr>\n",
       "      <th>6</th>\n",
       "      <td>FL6.jpg</td>\n",
       "      <td>6</td>\n",
       "      <td>22</td>\n",
       "      <td>-41</td>\n",
       "      <td>69</td>\n",
       "      <td>17</td>\n",
       "      <td>1</td>\n",
       "      <td>99.999985</td>\n",
       "    </tr>\n",
       "    <tr>\n",
       "      <th>7</th>\n",
       "      <td>FL7.jpg</td>\n",
       "      <td>7</td>\n",
       "      <td>8</td>\n",
       "      <td>-43</td>\n",
       "      <td>10</td>\n",
       "      <td>93</td>\n",
       "      <td>1</td>\n",
       "      <td>99.999939</td>\n",
       "    </tr>\n",
       "    <tr>\n",
       "      <th>8</th>\n",
       "      <td>FL8.jpg</td>\n",
       "      <td>8</td>\n",
       "      <td>-22</td>\n",
       "      <td>44</td>\n",
       "      <td>78</td>\n",
       "      <td>64</td>\n",
       "      <td>1</td>\n",
       "      <td>99.999969</td>\n",
       "    </tr>\n",
       "    <tr>\n",
       "      <th>9</th>\n",
       "      <td>FL9.jpg</td>\n",
       "      <td>9</td>\n",
       "      <td>43</td>\n",
       "      <td>-36</td>\n",
       "      <td>8</td>\n",
       "      <td>88</td>\n",
       "      <td>1</td>\n",
       "      <td>99.999939</td>\n",
       "    </tr>\n",
       "    <tr>\n",
       "      <th>10</th>\n",
       "      <td>Jenny1.JPG</td>\n",
       "      <td>1</td>\n",
       "      <td>10</td>\n",
       "      <td>30</td>\n",
       "      <td>30</td>\n",
       "      <td>15</td>\n",
       "      <td>0</td>\n",
       "      <td>99.999985</td>\n",
       "    </tr>\n",
       "    <tr>\n",
       "      <th>11</th>\n",
       "      <td>Jenny10.JPG</td>\n",
       "      <td>10</td>\n",
       "      <td>27</td>\n",
       "      <td>-50</td>\n",
       "      <td>84</td>\n",
       "      <td>2</td>\n",
       "      <td>0</td>\n",
       "      <td>99.999863</td>\n",
       "    </tr>\n",
       "    <tr>\n",
       "      <th>12</th>\n",
       "      <td>Jenny2.JPG</td>\n",
       "      <td>2</td>\n",
       "      <td>-15</td>\n",
       "      <td>25</td>\n",
       "      <td>75</td>\n",
       "      <td>42</td>\n",
       "      <td>0</td>\n",
       "      <td>99.999962</td>\n",
       "    </tr>\n",
       "    <tr>\n",
       "      <th>13</th>\n",
       "      <td>Jenny3.JPG</td>\n",
       "      <td>3</td>\n",
       "      <td>30</td>\n",
       "      <td>50</td>\n",
       "      <td>50</td>\n",
       "      <td>27</td>\n",
       "      <td>0</td>\n",
       "      <td>99.999916</td>\n",
       "    </tr>\n",
       "    <tr>\n",
       "      <th>14</th>\n",
       "      <td>Jenny4.JPG</td>\n",
       "      <td>4</td>\n",
       "      <td>-50</td>\n",
       "      <td>50</td>\n",
       "      <td>100</td>\n",
       "      <td>63</td>\n",
       "      <td>0</td>\n",
       "      <td>99.999420</td>\n",
       "    </tr>\n",
       "    <tr>\n",
       "      <th>15</th>\n",
       "      <td>Jenny5.JPG</td>\n",
       "      <td>5</td>\n",
       "      <td>20</td>\n",
       "      <td>-15</td>\n",
       "      <td>40</td>\n",
       "      <td>25</td>\n",
       "      <td>0</td>\n",
       "      <td>99.999985</td>\n",
       "    </tr>\n",
       "    <tr>\n",
       "      <th>16</th>\n",
       "      <td>Jenny6.JPG</td>\n",
       "      <td>6</td>\n",
       "      <td>50</td>\n",
       "      <td>-5</td>\n",
       "      <td>15</td>\n",
       "      <td>74</td>\n",
       "      <td>0</td>\n",
       "      <td>99.999886</td>\n",
       "    </tr>\n",
       "    <tr>\n",
       "      <th>17</th>\n",
       "      <td>Jenny7.JPG</td>\n",
       "      <td>7</td>\n",
       "      <td>12</td>\n",
       "      <td>28</td>\n",
       "      <td>43</td>\n",
       "      <td>33</td>\n",
       "      <td>0</td>\n",
       "      <td>99.999977</td>\n",
       "    </tr>\n",
       "    <tr>\n",
       "      <th>18</th>\n",
       "      <td>Jenny8.JPG</td>\n",
       "      <td>8</td>\n",
       "      <td>-22</td>\n",
       "      <td>-23</td>\n",
       "      <td>67</td>\n",
       "      <td>100</td>\n",
       "      <td>0</td>\n",
       "      <td>99.999725</td>\n",
       "    </tr>\n",
       "    <tr>\n",
       "      <th>19</th>\n",
       "      <td>Jenny9.JPG</td>\n",
       "      <td>9</td>\n",
       "      <td>36</td>\n",
       "      <td>36</td>\n",
       "      <td>13</td>\n",
       "      <td>55</td>\n",
       "      <td>0</td>\n",
       "      <td>99.999977</td>\n",
       "    </tr>\n",
       "    <tr>\n",
       "      <th>20</th>\n",
       "      <td>Jin1.JPG</td>\n",
       "      <td>1</td>\n",
       "      <td>-20</td>\n",
       "      <td>40</td>\n",
       "      <td>40</td>\n",
       "      <td>85</td>\n",
       "      <td>1</td>\n",
       "      <td>99.975517</td>\n",
       "    </tr>\n",
       "    <tr>\n",
       "      <th>21</th>\n",
       "      <td>Jin10.JPG</td>\n",
       "      <td>10</td>\n",
       "      <td>40</td>\n",
       "      <td>24</td>\n",
       "      <td>88</td>\n",
       "      <td>40</td>\n",
       "      <td>1</td>\n",
       "      <td>99.988213</td>\n",
       "    </tr>\n",
       "    <tr>\n",
       "      <th>22</th>\n",
       "      <td>Jin2.JPG</td>\n",
       "      <td>2</td>\n",
       "      <td>50</td>\n",
       "      <td>-30</td>\n",
       "      <td>76</td>\n",
       "      <td>27</td>\n",
       "      <td>1</td>\n",
       "      <td>99.991196</td>\n",
       "    </tr>\n",
       "    <tr>\n",
       "      <th>23</th>\n",
       "      <td>Jin3.JPG</td>\n",
       "      <td>3</td>\n",
       "      <td>-37</td>\n",
       "      <td>16</td>\n",
       "      <td>5</td>\n",
       "      <td>14</td>\n",
       "      <td>1</td>\n",
       "      <td>99.999557</td>\n",
       "    </tr>\n",
       "    <tr>\n",
       "      <th>24</th>\n",
       "      <td>Jin4.JPG</td>\n",
       "      <td>4</td>\n",
       "      <td>50</td>\n",
       "      <td>50</td>\n",
       "      <td>100</td>\n",
       "      <td>100</td>\n",
       "      <td>1</td>\n",
       "      <td>99.773064</td>\n",
       "    </tr>\n",
       "    <tr>\n",
       "      <th>25</th>\n",
       "      <td>Jin5.JPG</td>\n",
       "      <td>5</td>\n",
       "      <td>-50</td>\n",
       "      <td>-50</td>\n",
       "      <td>0</td>\n",
       "      <td>0</td>\n",
       "      <td>1</td>\n",
       "      <td>99.997673</td>\n",
       "    </tr>\n",
       "    <tr>\n",
       "      <th>26</th>\n",
       "      <td>Jin6.JPG</td>\n",
       "      <td>6</td>\n",
       "      <td>28</td>\n",
       "      <td>-38</td>\n",
       "      <td>7</td>\n",
       "      <td>5</td>\n",
       "      <td>1</td>\n",
       "      <td>99.999207</td>\n",
       "    </tr>\n",
       "    <tr>\n",
       "      <th>27</th>\n",
       "      <td>Jin7.JPG</td>\n",
       "      <td>7</td>\n",
       "      <td>6</td>\n",
       "      <td>-36</td>\n",
       "      <td>55</td>\n",
       "      <td>24</td>\n",
       "      <td>1</td>\n",
       "      <td>99.998978</td>\n",
       "    </tr>\n",
       "    <tr>\n",
       "      <th>28</th>\n",
       "      <td>Jin8.JPG</td>\n",
       "      <td>8</td>\n",
       "      <td>-33</td>\n",
       "      <td>23</td>\n",
       "      <td>77</td>\n",
       "      <td>39</td>\n",
       "      <td>1</td>\n",
       "      <td>99.995995</td>\n",
       "    </tr>\n",
       "    <tr>\n",
       "      <th>29</th>\n",
       "      <td>Jin9.JPG</td>\n",
       "      <td>9</td>\n",
       "      <td>9</td>\n",
       "      <td>-8</td>\n",
       "      <td>50</td>\n",
       "      <td>18</td>\n",
       "      <td>1</td>\n",
       "      <td>99.999367</td>\n",
       "    </tr>\n",
       "    <tr>\n",
       "      <th>30</th>\n",
       "      <td>Nicole1.JPG</td>\n",
       "      <td>1</td>\n",
       "      <td>-50</td>\n",
       "      <td>50</td>\n",
       "      <td>95</td>\n",
       "      <td>77</td>\n",
       "      <td>0</td>\n",
       "      <td>99.999390</td>\n",
       "    </tr>\n",
       "    <tr>\n",
       "      <th>31</th>\n",
       "      <td>Nicole10.JPG</td>\n",
       "      <td>10</td>\n",
       "      <td>47</td>\n",
       "      <td>46</td>\n",
       "      <td>85</td>\n",
       "      <td>100</td>\n",
       "      <td>0</td>\n",
       "      <td>99.966415</td>\n",
       "    </tr>\n",
       "    <tr>\n",
       "      <th>32</th>\n",
       "      <td>Nicole2.JPG</td>\n",
       "      <td>2</td>\n",
       "      <td>10</td>\n",
       "      <td>-25</td>\n",
       "      <td>34</td>\n",
       "      <td>59</td>\n",
       "      <td>0</td>\n",
       "      <td>99.999359</td>\n",
       "    </tr>\n",
       "    <tr>\n",
       "      <th>33</th>\n",
       "      <td>Nicole3.JPG</td>\n",
       "      <td>3</td>\n",
       "      <td>-29</td>\n",
       "      <td>38</td>\n",
       "      <td>68</td>\n",
       "      <td>94</td>\n",
       "      <td>0</td>\n",
       "      <td>99.995728</td>\n",
       "    </tr>\n",
       "    <tr>\n",
       "      <th>34</th>\n",
       "      <td>Nicole4.JPG</td>\n",
       "      <td>4</td>\n",
       "      <td>18</td>\n",
       "      <td>-46</td>\n",
       "      <td>27</td>\n",
       "      <td>48</td>\n",
       "      <td>0</td>\n",
       "      <td>99.999115</td>\n",
       "    </tr>\n",
       "    <tr>\n",
       "      <th>35</th>\n",
       "      <td>Nicole5.JPG</td>\n",
       "      <td>5</td>\n",
       "      <td>46</td>\n",
       "      <td>31</td>\n",
       "      <td>75</td>\n",
       "      <td>16</td>\n",
       "      <td>0</td>\n",
       "      <td>99.998032</td>\n",
       "    </tr>\n",
       "    <tr>\n",
       "      <th>36</th>\n",
       "      <td>Nicole6.JPG</td>\n",
       "      <td>6</td>\n",
       "      <td>-44</td>\n",
       "      <td>43</td>\n",
       "      <td>50</td>\n",
       "      <td>28</td>\n",
       "      <td>0</td>\n",
       "      <td>99.999825</td>\n",
       "    </tr>\n",
       "    <tr>\n",
       "      <th>37</th>\n",
       "      <td>Nicole7.JPG</td>\n",
       "      <td>7</td>\n",
       "      <td>15</td>\n",
       "      <td>3</td>\n",
       "      <td>98</td>\n",
       "      <td>68</td>\n",
       "      <td>0</td>\n",
       "      <td>99.994209</td>\n",
       "    </tr>\n",
       "    <tr>\n",
       "      <th>38</th>\n",
       "      <td>Nicole8.JPG</td>\n",
       "      <td>8</td>\n",
       "      <td>41</td>\n",
       "      <td>17</td>\n",
       "      <td>21</td>\n",
       "      <td>35</td>\n",
       "      <td>0</td>\n",
       "      <td>99.998444</td>\n",
       "    </tr>\n",
       "    <tr>\n",
       "      <th>39</th>\n",
       "      <td>Nicole9.JPG</td>\n",
       "      <td>9</td>\n",
       "      <td>-31</td>\n",
       "      <td>-29</td>\n",
       "      <td>14</td>\n",
       "      <td>43</td>\n",
       "      <td>0</td>\n",
       "      <td>99.999702</td>\n",
       "    </tr>\n",
       "  </tbody>\n",
       "</table>\n",
       "</div>"
      ],
      "text/plain": [
       "            Name  Pic#  forehead  chin  eyes  cheek  male  similarity\n",
       "0        FL1.jpg     1        16   -33    49     26     1   99.999962\n",
       "1       FL10.jpg    10       -16    19    83     57     1   99.999992\n",
       "2        FL2.jpg     2       -50    38   100    100     1   99.999176\n",
       "3        FL3.jpg     3        32   -24    71     39     1   99.999977\n",
       "4        FL4.jpg     4        50    19    15     70     1   99.999931\n",
       "5        FL5.jpg     5       -31    24    34     43     1   99.999985\n",
       "6        FL6.jpg     6        22   -41    69     17     1   99.999985\n",
       "7        FL7.jpg     7         8   -43    10     93     1   99.999939\n",
       "8        FL8.jpg     8       -22    44    78     64     1   99.999969\n",
       "9        FL9.jpg     9        43   -36     8     88     1   99.999939\n",
       "10    Jenny1.JPG     1        10    30    30     15     0   99.999985\n",
       "11   Jenny10.JPG    10        27   -50    84      2     0   99.999863\n",
       "12    Jenny2.JPG     2       -15    25    75     42     0   99.999962\n",
       "13    Jenny3.JPG     3        30    50    50     27     0   99.999916\n",
       "14    Jenny4.JPG     4       -50    50   100     63     0   99.999420\n",
       "15    Jenny5.JPG     5        20   -15    40     25     0   99.999985\n",
       "16    Jenny6.JPG     6        50    -5    15     74     0   99.999886\n",
       "17    Jenny7.JPG     7        12    28    43     33     0   99.999977\n",
       "18    Jenny8.JPG     8       -22   -23    67    100     0   99.999725\n",
       "19    Jenny9.JPG     9        36    36    13     55     0   99.999977\n",
       "20      Jin1.JPG     1       -20    40    40     85     1   99.975517\n",
       "21     Jin10.JPG    10        40    24    88     40     1   99.988213\n",
       "22      Jin2.JPG     2        50   -30    76     27     1   99.991196\n",
       "23      Jin3.JPG     3       -37    16     5     14     1   99.999557\n",
       "24      Jin4.JPG     4        50    50   100    100     1   99.773064\n",
       "25      Jin5.JPG     5       -50   -50     0      0     1   99.997673\n",
       "26      Jin6.JPG     6        28   -38     7      5     1   99.999207\n",
       "27      Jin7.JPG     7         6   -36    55     24     1   99.998978\n",
       "28      Jin8.JPG     8       -33    23    77     39     1   99.995995\n",
       "29      Jin9.JPG     9         9    -8    50     18     1   99.999367\n",
       "30   Nicole1.JPG     1       -50    50    95     77     0   99.999390\n",
       "31  Nicole10.JPG    10        47    46    85    100     0   99.966415\n",
       "32   Nicole2.JPG     2        10   -25    34     59     0   99.999359\n",
       "33   Nicole3.JPG     3       -29    38    68     94     0   99.995728\n",
       "34   Nicole4.JPG     4        18   -46    27     48     0   99.999115\n",
       "35   Nicole5.JPG     5        46    31    75     16     0   99.998032\n",
       "36   Nicole6.JPG     6       -44    43    50     28     0   99.999825\n",
       "37   Nicole7.JPG     7        15     3    98     68     0   99.994209\n",
       "38   Nicole8.JPG     8        41    17    21     35     0   99.998444\n",
       "39   Nicole9.JPG     9       -31   -29    14     43     0   99.999702"
      ]
     },
     "execution_count": 112,
     "metadata": {},
     "output_type": "execute_result"
    }
   ],
   "source": [
    "df"
   ]
  },
  {
   "cell_type": "code",
   "execution_count": 115,
   "id": "obvious-builder",
   "metadata": {},
   "outputs": [
    {
     "data": {
      "text/plain": [
       "99.99986267089844"
      ]
     },
     "execution_count": 115,
     "metadata": {},
     "output_type": "execute_result"
    }
   ],
   "source": [
    "#random checks if it the data frame is correct\n",
    "\n",
    "extract_similarity_Jenny('Jenny10.JPG')"
   ]
  },
  {
   "cell_type": "markdown",
   "id": "funky-forest",
   "metadata": {},
   "source": [
    "## Step 3: Run multiple linear regression\n",
    "This is the multiple linear model that we are trying to estimate\n",
    "\n",
    "$$similarity=\\beta_0+\\beta_1forehead+\\beta_2chin+\\beta_3eyes+\\beta_4cheek+\\beta_5male+u$$"
   ]
  },
  {
   "cell_type": "code",
   "execution_count": 116,
   "id": "clinical-tutorial",
   "metadata": {},
   "outputs": [],
   "source": [
    "import statsmodels.formula.api as smf\n"
   ]
  },
  {
   "cell_type": "code",
   "execution_count": 117,
   "id": "vietnamese-enforcement",
   "metadata": {},
   "outputs": [],
   "source": [
    "results = smf.ols('similarity ~ forehead+chin+eyes+cheek+male', data=df).fit()"
   ]
  },
  {
   "cell_type": "code",
   "execution_count": 119,
   "id": "outside-lyric",
   "metadata": {},
   "outputs": [
    {
     "name": "stdout",
     "output_type": "stream",
     "text": [
      "                            OLS Regression Results                            \n",
      "==============================================================================\n",
      "Dep. Variable:             similarity   R-squared:                       0.301\n",
      "Model:                            OLS   Adj. R-squared:                  0.199\n",
      "Method:                 Least Squares   F-statistic:                     2.933\n",
      "Date:                Thu, 22 Apr 2021   Prob (F-statistic):             0.0263\n",
      "Time:                        12:48:12   Log-Likelihood:                 83.810\n",
      "No. Observations:                  40   AIC:                            -155.6\n",
      "Df Residuals:                      34   BIC:                            -145.5\n",
      "Df Model:                           5                                         \n",
      "Covariance Type:            nonrobust                                         \n",
      "==============================================================================\n",
      "                 coef    std err          t      P>|t|      [0.025      0.975]\n",
      "------------------------------------------------------------------------------\n",
      "Intercept    100.0280      0.014   7261.956      0.000     100.000     100.056\n",
      "forehead      -0.0003      0.000     -2.211      0.034      -0.001   -2.81e-05\n",
      "chin          -0.0002      0.000     -1.296      0.204      -0.001       0.000\n",
      "eyes          -0.0002      0.000     -1.166      0.252      -0.001       0.000\n",
      "cheek         -0.0003      0.000     -1.539      0.133      -0.001       9e-05\n",
      "male          -0.0169      0.010     -1.611      0.116      -0.038       0.004\n",
      "==============================================================================\n",
      "Omnibus:                       65.255   Durbin-Watson:                   1.304\n",
      "Prob(Omnibus):                  0.000   Jarque-Bera (JB):              644.304\n",
      "Skew:                          -3.856   Prob(JB):                    1.23e-140\n",
      "Kurtosis:                      21.086   Cond. No.                         232.\n",
      "==============================================================================\n",
      "\n",
      "Notes:\n",
      "[1] Standard Errors assume that the covariance matrix of the errors is correctly specified.\n"
     ]
    }
   ],
   "source": [
    "print(results.summary())"
   ]
  },
  {
   "cell_type": "markdown",
   "id": "deadly-cradle",
   "metadata": {},
   "source": [
    "Printing out the regression summary gives us a lot of information. At first glance, all regressors have negative effects on similarity. This is in line with our expectations. However, among all the slope estimates, only `forehead` obatains statistical significance at the 5% significance level, with a p-value of 0.034. The 95% confidence intervals are presented next to the p-values. The only 95% confidence interval to not include the null is `forehead`. While the other 4 variables do not obatin statistical significance, the F-statistic informs us that all regressors do have an effect on similarity jointly. The F-test rejects the null hypothesis at 5% significance level. Finally, these regressors do not explain well the similarity because the adjusted R-squared is only 20%."
   ]
  },
  {
   "cell_type": "markdown",
   "id": "actual-document",
   "metadata": {},
   "source": [
    "Interestingly, while holding other factors fixed, the difference in similarity between male and female is -0.0169, although this regressor does not obatain statistical significance."
   ]
  },
  {
   "cell_type": "markdown",
   "id": "broke-seminar",
   "metadata": {},
   "source": [
    "To sum up, we only find that beautifying effect on the forehead has a statiscally significant effect on similarity. For 1 unit increase in the beautifying effect on forehead, the similarity index decreases by 0.0003."
   ]
  }
 ],
 "metadata": {
  "kernelspec": {
   "display_name": "conda_python3",
   "language": "python",
   "name": "conda_python3"
  },
  "language_info": {
   "codemirror_mode": {
    "name": "ipython",
    "version": 3
   },
   "file_extension": ".py",
   "mimetype": "text/x-python",
   "name": "python",
   "nbconvert_exporter": "python",
   "pygments_lexer": "ipython3",
   "version": "3.6.13"
  }
 },
 "nbformat": 4,
 "nbformat_minor": 5
}
